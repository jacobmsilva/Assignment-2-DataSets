{
 "cells": [
  {
   "cell_type": "markdown",
   "metadata": {},
   "source": [
    "# A2 CSV Processing"
   ]
  },
  {
   "cell_type": "markdown",
   "metadata": {},
   "source": [
    "##### Jacob, Geoffroy, Cameron"
   ]
  },
  {
   "cell_type": "markdown",
   "metadata": {},
   "source": [
    "## Dataset 1: worldRecords.csv"
   ]
  },
  {
   "cell_type": "code",
   "execution_count": 221,
   "metadata": {},
   "outputs": [
    {
     "data": {
      "text/html": [
       "<div>\n",
       "<style scoped>\n",
       "    .dataframe tbody tr th:only-of-type {\n",
       "        vertical-align: middle;\n",
       "    }\n",
       "\n",
       "    .dataframe tbody tr th {\n",
       "        vertical-align: top;\n",
       "    }\n",
       "\n",
       "    .dataframe thead th {\n",
       "        text-align: right;\n",
       "    }\n",
       "</style>\n",
       "<table border=\"1\" class=\"dataframe\">\n",
       "  <thead>\n",
       "    <tr style=\"text-align: right;\">\n",
       "      <th></th>\n",
       "      <th>Unnamed: 0</th>\n",
       "      <th>Distance</th>\n",
       "      <th>roadORtrack</th>\n",
       "      <th>Place</th>\n",
       "      <th>Time</th>\n",
       "      <th>Date</th>\n",
       "    </tr>\n",
       "  </thead>\n",
       "  <tbody>\n",
       "    <tr>\n",
       "      <th>0</th>\n",
       "      <td>1</td>\n",
       "      <td>0.100</td>\n",
       "      <td>track</td>\n",
       "      <td>Athens</td>\n",
       "      <td>0.162833</td>\n",
       "      <td>2005-06-14</td>\n",
       "    </tr>\n",
       "    <tr>\n",
       "      <th>1</th>\n",
       "      <td>2</td>\n",
       "      <td>0.150</td>\n",
       "      <td>track</td>\n",
       "      <td>Cassino</td>\n",
       "      <td>0.246667</td>\n",
       "      <td>1983-05-22</td>\n",
       "    </tr>\n",
       "    <tr>\n",
       "      <th>2</th>\n",
       "      <td>3</td>\n",
       "      <td>0.200</td>\n",
       "      <td>track</td>\n",
       "      <td>Atlanta</td>\n",
       "      <td>0.322000</td>\n",
       "      <td>1996-08-01</td>\n",
       "    </tr>\n",
       "    <tr>\n",
       "      <th>3</th>\n",
       "      <td>4</td>\n",
       "      <td>0.300</td>\n",
       "      <td>track</td>\n",
       "      <td>Pretoria</td>\n",
       "      <td>0.514167</td>\n",
       "      <td>2000-03-24</td>\n",
       "    </tr>\n",
       "    <tr>\n",
       "      <th>4</th>\n",
       "      <td>5</td>\n",
       "      <td>0.400</td>\n",
       "      <td>track</td>\n",
       "      <td>Seville</td>\n",
       "      <td>0.719667</td>\n",
       "      <td>1999-08-26</td>\n",
       "    </tr>\n",
       "    <tr>\n",
       "      <th>5</th>\n",
       "      <td>6</td>\n",
       "      <td>0.500</td>\n",
       "      <td>track</td>\n",
       "      <td>Busto Arsizio</td>\n",
       "      <td>1.001333</td>\n",
       "      <td>1984-05-26</td>\n",
       "    </tr>\n",
       "    <tr>\n",
       "      <th>6</th>\n",
       "      <td>7</td>\n",
       "      <td>0.600</td>\n",
       "      <td>track</td>\n",
       "      <td>Santa Monica</td>\n",
       "      <td>1.213500</td>\n",
       "      <td>1986-05-24</td>\n",
       "    </tr>\n",
       "    <tr>\n",
       "      <th>7</th>\n",
       "      <td>8</td>\n",
       "      <td>0.800</td>\n",
       "      <td>track</td>\n",
       "      <td>Cologne</td>\n",
       "      <td>1.685167</td>\n",
       "      <td>1997-08-24</td>\n",
       "    </tr>\n",
       "    <tr>\n",
       "      <th>8</th>\n",
       "      <td>9</td>\n",
       "      <td>1.000</td>\n",
       "      <td>track</td>\n",
       "      <td>Rieti</td>\n",
       "      <td>2.199333</td>\n",
       "      <td>1999-09-05</td>\n",
       "    </tr>\n",
       "    <tr>\n",
       "      <th>9</th>\n",
       "      <td>10</td>\n",
       "      <td>1.500</td>\n",
       "      <td>track</td>\n",
       "      <td>Rome</td>\n",
       "      <td>3.433333</td>\n",
       "      <td>1998-07-14</td>\n",
       "    </tr>\n",
       "    <tr>\n",
       "      <th>10</th>\n",
       "      <td>11</td>\n",
       "      <td>1.609</td>\n",
       "      <td>track</td>\n",
       "      <td>Rome</td>\n",
       "      <td>3.718833</td>\n",
       "      <td>1999-07-07</td>\n",
       "    </tr>\n",
       "    <tr>\n",
       "      <th>11</th>\n",
       "      <td>12</td>\n",
       "      <td>2.000</td>\n",
       "      <td>track</td>\n",
       "      <td>Berlin</td>\n",
       "      <td>4.746500</td>\n",
       "      <td>1999-09-07</td>\n",
       "    </tr>\n",
       "    <tr>\n",
       "      <th>12</th>\n",
       "      <td>13</td>\n",
       "      <td>3.000</td>\n",
       "      <td>track</td>\n",
       "      <td>Rieti</td>\n",
       "      <td>7.344500</td>\n",
       "      <td>1996-09-01</td>\n",
       "    </tr>\n",
       "    <tr>\n",
       "      <th>13</th>\n",
       "      <td>14</td>\n",
       "      <td>3.218</td>\n",
       "      <td>track</td>\n",
       "      <td>Hechtel</td>\n",
       "      <td>7.976833</td>\n",
       "      <td>1997-07-19</td>\n",
       "    </tr>\n",
       "    <tr>\n",
       "      <th>14</th>\n",
       "      <td>15</td>\n",
       "      <td>5.000</td>\n",
       "      <td>track</td>\n",
       "      <td>Hengelo</td>\n",
       "      <td>12.622500</td>\n",
       "      <td>2004-05-31</td>\n",
       "    </tr>\n",
       "    <tr>\n",
       "      <th>15</th>\n",
       "      <td>16</td>\n",
       "      <td>10.000</td>\n",
       "      <td>track</td>\n",
       "      <td>Brussels</td>\n",
       "      <td>26.292167</td>\n",
       "      <td>2005-08-26</td>\n",
       "    </tr>\n",
       "    <tr>\n",
       "      <th>16</th>\n",
       "      <td>17</td>\n",
       "      <td>15.000</td>\n",
       "      <td>track</td>\n",
       "      <td>La Fleche</td>\n",
       "      <td>42.566667</td>\n",
       "      <td>1991-03-30</td>\n",
       "    </tr>\n",
       "    <tr>\n",
       "      <th>17</th>\n",
       "      <td>18</td>\n",
       "      <td>20.000</td>\n",
       "      <td>track</td>\n",
       "      <td>La Fleche</td>\n",
       "      <td>56.926667</td>\n",
       "      <td>1991-03-30</td>\n",
       "    </tr>\n",
       "    <tr>\n",
       "      <th>18</th>\n",
       "      <td>19</td>\n",
       "      <td>25.000</td>\n",
       "      <td>track</td>\n",
       "      <td>Christchurch</td>\n",
       "      <td>73.930000</td>\n",
       "      <td>1981-03-22</td>\n",
       "    </tr>\n",
       "    <tr>\n",
       "      <th>19</th>\n",
       "      <td>20</td>\n",
       "      <td>30.000</td>\n",
       "      <td>track</td>\n",
       "      <td>Christchurch</td>\n",
       "      <td>89.313333</td>\n",
       "      <td>1981-03-22</td>\n",
       "    </tr>\n",
       "    <tr>\n",
       "      <th>20</th>\n",
       "      <td>21</td>\n",
       "      <td>50.000</td>\n",
       "      <td>track</td>\n",
       "      <td>Timperley</td>\n",
       "      <td>168.100000</td>\n",
       "      <td>1980-06-07</td>\n",
       "    </tr>\n",
       "    <tr>\n",
       "      <th>21</th>\n",
       "      <td>22</td>\n",
       "      <td>64.360</td>\n",
       "      <td>track</td>\n",
       "      <td>London</td>\n",
       "      <td>228.583333</td>\n",
       "      <td>1982-10-16</td>\n",
       "    </tr>\n",
       "    <tr>\n",
       "      <th>22</th>\n",
       "      <td>23</td>\n",
       "      <td>100.000</td>\n",
       "      <td>track</td>\n",
       "      <td>London</td>\n",
       "      <td>370.333333</td>\n",
       "      <td>1978-10-28</td>\n",
       "    </tr>\n",
       "    <tr>\n",
       "      <th>23</th>\n",
       "      <td>24</td>\n",
       "      <td>160.900</td>\n",
       "      <td>track</td>\n",
       "      <td>London</td>\n",
       "      <td>688.050000</td>\n",
       "      <td>2002-10-20</td>\n",
       "    </tr>\n",
       "    <tr>\n",
       "      <th>24</th>\n",
       "      <td>25</td>\n",
       "      <td>5.000</td>\n",
       "      <td>road</td>\n",
       "      <td>Carlsbad</td>\n",
       "      <td>13.000000</td>\n",
       "      <td>2000-03-26</td>\n",
       "    </tr>\n",
       "    <tr>\n",
       "      <th>25</th>\n",
       "      <td>26</td>\n",
       "      <td>6.436</td>\n",
       "      <td>road</td>\n",
       "      <td>Groningen</td>\n",
       "      <td>17.166667</td>\n",
       "      <td>2005-10-09</td>\n",
       "    </tr>\n",
       "    <tr>\n",
       "      <th>26</th>\n",
       "      <td>27</td>\n",
       "      <td>8.000</td>\n",
       "      <td>road</td>\n",
       "      <td>Dublin</td>\n",
       "      <td>22.033333</td>\n",
       "      <td>1993-05-02</td>\n",
       "    </tr>\n",
       "    <tr>\n",
       "      <th>27</th>\n",
       "      <td>28</td>\n",
       "      <td>8.045</td>\n",
       "      <td>road</td>\n",
       "      <td>New Orleans</td>\n",
       "      <td>22.083333</td>\n",
       "      <td>1993-03-20</td>\n",
       "    </tr>\n",
       "    <tr>\n",
       "      <th>28</th>\n",
       "      <td>29</td>\n",
       "      <td>10.000</td>\n",
       "      <td>road</td>\n",
       "      <td>Doha</td>\n",
       "      <td>27.033333</td>\n",
       "      <td>2002-12-11</td>\n",
       "    </tr>\n",
       "    <tr>\n",
       "      <th>29</th>\n",
       "      <td>30</td>\n",
       "      <td>12.000</td>\n",
       "      <td>road</td>\n",
       "      <td>Evansville</td>\n",
       "      <td>33.516667</td>\n",
       "      <td>1997-05-10</td>\n",
       "    </tr>\n",
       "    <tr>\n",
       "      <th>30</th>\n",
       "      <td>31</td>\n",
       "      <td>15.000</td>\n",
       "      <td>road</td>\n",
       "      <td>Tilburg</td>\n",
       "      <td>41.366667</td>\n",
       "      <td>2005-09-04</td>\n",
       "    </tr>\n",
       "    <tr>\n",
       "      <th>31</th>\n",
       "      <td>32</td>\n",
       "      <td>16.090</td>\n",
       "      <td>road</td>\n",
       "      <td>Tilburg</td>\n",
       "      <td>44.400000</td>\n",
       "      <td>2005-09-04</td>\n",
       "    </tr>\n",
       "    <tr>\n",
       "      <th>32</th>\n",
       "      <td>33</td>\n",
       "      <td>20.000</td>\n",
       "      <td>road</td>\n",
       "      <td>Phoenix-Tempe</td>\n",
       "      <td>55.800000</td>\n",
       "      <td>2006-01-15</td>\n",
       "    </tr>\n",
       "    <tr>\n",
       "      <th>33</th>\n",
       "      <td>34</td>\n",
       "      <td>25.000</td>\n",
       "      <td>road</td>\n",
       "      <td>Alphen aan den Rijn</td>\n",
       "      <td>71.616667</td>\n",
       "      <td>2006-03-12</td>\n",
       "    </tr>\n",
       "    <tr>\n",
       "      <th>34</th>\n",
       "      <td>35</td>\n",
       "      <td>30.000</td>\n",
       "      <td>road</td>\n",
       "      <td>Kumamoto</td>\n",
       "      <td>88.000000</td>\n",
       "      <td>2005-02-27</td>\n",
       "    </tr>\n",
       "    <tr>\n",
       "      <th>35</th>\n",
       "      <td>36</td>\n",
       "      <td>32.180</td>\n",
       "      <td>road</td>\n",
       "      <td>Chicago</td>\n",
       "      <td>95.366667</td>\n",
       "      <td>1985-10-20</td>\n",
       "    </tr>\n",
       "    <tr>\n",
       "      <th>36</th>\n",
       "      <td>37</td>\n",
       "      <td>50.000</td>\n",
       "      <td>road</td>\n",
       "      <td>Claremont-Kirstenbosch</td>\n",
       "      <td>163.633333</td>\n",
       "      <td>1988-04-12</td>\n",
       "    </tr>\n",
       "    <tr>\n",
       "      <th>37</th>\n",
       "      <td>38</td>\n",
       "      <td>100.000</td>\n",
       "      <td>road</td>\n",
       "      <td>Lake Saroma</td>\n",
       "      <td>373.550000</td>\n",
       "      <td>1998-06-21</td>\n",
       "    </tr>\n",
       "    <tr>\n",
       "      <th>38</th>\n",
       "      <td>39</td>\n",
       "      <td>160.900</td>\n",
       "      <td>road</td>\n",
       "      <td>New York</td>\n",
       "      <td>706.616667</td>\n",
       "      <td>1984-05-08</td>\n",
       "    </tr>\n",
       "    <tr>\n",
       "      <th>39</th>\n",
       "      <td>40</td>\n",
       "      <td>290.221</td>\n",
       "      <td>road</td>\n",
       "      <td>Basle</td>\n",
       "      <td>1440.000000</td>\n",
       "      <td>1998-05-03</td>\n",
       "    </tr>\n",
       "  </tbody>\n",
       "</table>\n",
       "</div>"
      ],
      "text/plain": [
       "    Unnamed: 0  Distance roadORtrack                   Place         Time  \\\n",
       "0            1     0.100       track                  Athens     0.162833   \n",
       "1            2     0.150       track                 Cassino     0.246667   \n",
       "2            3     0.200       track                 Atlanta     0.322000   \n",
       "3            4     0.300       track                Pretoria     0.514167   \n",
       "4            5     0.400       track                 Seville     0.719667   \n",
       "5            6     0.500       track           Busto Arsizio     1.001333   \n",
       "6            7     0.600       track            Santa Monica     1.213500   \n",
       "7            8     0.800       track                 Cologne     1.685167   \n",
       "8            9     1.000       track                   Rieti     2.199333   \n",
       "9           10     1.500       track                    Rome     3.433333   \n",
       "10          11     1.609       track                    Rome     3.718833   \n",
       "11          12     2.000       track                  Berlin     4.746500   \n",
       "12          13     3.000       track                   Rieti     7.344500   \n",
       "13          14     3.218       track                 Hechtel     7.976833   \n",
       "14          15     5.000       track                 Hengelo    12.622500   \n",
       "15          16    10.000       track                Brussels    26.292167   \n",
       "16          17    15.000       track               La Fleche    42.566667   \n",
       "17          18    20.000       track               La Fleche    56.926667   \n",
       "18          19    25.000       track            Christchurch    73.930000   \n",
       "19          20    30.000       track            Christchurch    89.313333   \n",
       "20          21    50.000       track               Timperley   168.100000   \n",
       "21          22    64.360       track                  London   228.583333   \n",
       "22          23   100.000       track                  London   370.333333   \n",
       "23          24   160.900       track                  London   688.050000   \n",
       "24          25     5.000        road                Carlsbad    13.000000   \n",
       "25          26     6.436        road               Groningen    17.166667   \n",
       "26          27     8.000        road                  Dublin    22.033333   \n",
       "27          28     8.045        road             New Orleans    22.083333   \n",
       "28          29    10.000        road                    Doha    27.033333   \n",
       "29          30    12.000        road              Evansville    33.516667   \n",
       "30          31    15.000        road                 Tilburg    41.366667   \n",
       "31          32    16.090        road                 Tilburg    44.400000   \n",
       "32          33    20.000        road           Phoenix-Tempe    55.800000   \n",
       "33          34    25.000        road     Alphen aan den Rijn    71.616667   \n",
       "34          35    30.000        road                Kumamoto    88.000000   \n",
       "35          36    32.180        road                 Chicago    95.366667   \n",
       "36          37    50.000        road  Claremont-Kirstenbosch   163.633333   \n",
       "37          38   100.000        road             Lake Saroma   373.550000   \n",
       "38          39   160.900        road                New York   706.616667   \n",
       "39          40   290.221        road                   Basle  1440.000000   \n",
       "\n",
       "          Date  \n",
       "0   2005-06-14  \n",
       "1   1983-05-22  \n",
       "2   1996-08-01  \n",
       "3   2000-03-24  \n",
       "4   1999-08-26  \n",
       "5   1984-05-26  \n",
       "6   1986-05-24  \n",
       "7   1997-08-24  \n",
       "8   1999-09-05  \n",
       "9   1998-07-14  \n",
       "10  1999-07-07  \n",
       "11  1999-09-07  \n",
       "12  1996-09-01  \n",
       "13  1997-07-19  \n",
       "14  2004-05-31  \n",
       "15  2005-08-26  \n",
       "16  1991-03-30  \n",
       "17  1991-03-30  \n",
       "18  1981-03-22  \n",
       "19  1981-03-22  \n",
       "20  1980-06-07  \n",
       "21  1982-10-16  \n",
       "22  1978-10-28  \n",
       "23  2002-10-20  \n",
       "24  2000-03-26  \n",
       "25  2005-10-09  \n",
       "26  1993-05-02  \n",
       "27  1993-03-20  \n",
       "28  2002-12-11  \n",
       "29  1997-05-10  \n",
       "30  2005-09-04  \n",
       "31  2005-09-04  \n",
       "32  2006-01-15  \n",
       "33  2006-03-12  \n",
       "34  2005-02-27  \n",
       "35  1985-10-20  \n",
       "36  1988-04-12  \n",
       "37  1998-06-21  \n",
       "38  1984-05-08  \n",
       "39  1998-05-03  "
      ]
     },
     "execution_count": 221,
     "metadata": {},
     "output_type": "execute_result"
    }
   ],
   "source": [
    "import pandas as pd\n",
    "Data = pd.read_csv('worldRecords.csv')\n",
    "Data"
   ]
  },
  {
   "cell_type": "markdown",
   "metadata": {},
   "source": [
    "### How many columns are there?"
   ]
  },
  {
   "cell_type": "code",
   "execution_count": 222,
   "metadata": {},
   "outputs": [
    {
     "name": "stdout",
     "output_type": "stream",
     "text": [
      "There are 6 Columns\n"
     ]
    },
    {
     "data": {
      "text/plain": [
       "Index(['Unnamed: 0', 'Distance', 'roadORtrack', 'Place', 'Time', 'Date'], dtype='object')"
      ]
     },
     "execution_count": 222,
     "metadata": {},
     "output_type": "execute_result"
    }
   ],
   "source": [
    "print('There are', len(Data.columns), 'Columns')\n",
    "Data.columns"
   ]
  },
  {
   "cell_type": "markdown",
   "metadata": {},
   "source": [
    "### How many rows are there?"
   ]
  },
  {
   "cell_type": "code",
   "execution_count": 223,
   "metadata": {},
   "outputs": [
    {
     "name": "stdout",
     "output_type": "stream",
     "text": [
      "There are 40 rows\n"
     ]
    },
    {
     "data": {
      "text/plain": [
       "array([[1, 0.1, 'track', 'Athens', 0.162833333333333, '2005-06-14'],\n",
       "       [2, 0.15, 'track', 'Cassino', 0.24666666666666698, '1983-05-22'],\n",
       "       [3, 0.2, 'track', 'Atlanta', 0.322, '1996-08-01'],\n",
       "       [4, 0.3, 'track', 'Pretoria', 0.5141666666666671, '2000-03-24'],\n",
       "       [5, 0.4, 'track', 'Seville', 0.719666666666667, '1999-08-26'],\n",
       "       [6, 0.5, 'track', 'Busto Arsizio', 1.00133333333333, '1984-05-26'],\n",
       "       [7, 0.6, 'track', 'Santa Monica', 1.2135, '1986-05-24'],\n",
       "       [8, 0.8, 'track', 'Cologne', 1.6851666666666698, '1997-08-24'],\n",
       "       [9, 1.0, 'track', 'Rieti', 2.19933333333333, '1999-09-05'],\n",
       "       [10, 1.5, 'track', 'Rome', 3.43333333333333, '1998-07-14'],\n",
       "       [11, 1.609, 'track', 'Rome', 3.7188333333333303, '1999-07-07'],\n",
       "       [12, 2.0, 'track', 'Berlin', 4.7465, '1999-09-07'],\n",
       "       [13, 3.0, 'track', 'Rieti', 7.3445, '1996-09-01'],\n",
       "       [14, 3.218, 'track', 'Hechtel', 7.97683333333333, '1997-07-19'],\n",
       "       [15, 5.0, 'track', 'Hengelo', 12.6225, '2004-05-31'],\n",
       "       [16, 10.0, 'track', 'Brussels', 26.2921666666667, '2005-08-26'],\n",
       "       [17, 15.0, 'track', 'La Fleche', 42.566666666666706, '1991-03-30'],\n",
       "       [18, 20.0, 'track', 'La Fleche', 56.9266666666667, '1991-03-30'],\n",
       "       [19, 25.0, 'track', 'Christchurch', 73.93, '1981-03-22'],\n",
       "       [20, 30.0, 'track', 'Christchurch', 89.3133333333333,\n",
       "        '1981-03-22'],\n",
       "       [21, 50.0, 'track', 'Timperley', 168.1, '1980-06-07'],\n",
       "       [22, 64.36, 'track', 'London', 228.583333333333, '1982-10-16'],\n",
       "       [23, 100.0, 'track', 'London', 370.333333333333, '1978-10-28'],\n",
       "       [24, 160.9, 'track', 'London', 688.05, '2002-10-20'],\n",
       "       [25, 5.0, 'road', 'Carlsbad', 13.0, '2000-03-26'],\n",
       "       [26, 6.436, 'road', 'Groningen', 17.1666666666667, '2005-10-09'],\n",
       "       [27, 8.0, 'road', 'Dublin', 22.033333333333303, '1993-05-02'],\n",
       "       [28, 8.045, 'road', 'New Orleans', 22.0833333333333, '1993-03-20'],\n",
       "       [29, 10.0, 'road', 'Doha', 27.033333333333303, '2002-12-11'],\n",
       "       [30, 12.0, 'road', 'Evansville', 33.5166666666667, '1997-05-10'],\n",
       "       [31, 15.0, 'road', 'Tilburg', 41.3666666666667, '2005-09-04'],\n",
       "       [32, 16.09, 'road', 'Tilburg', 44.4, '2005-09-04'],\n",
       "       [33, 20.0, 'road', 'Phoenix-Tempe', 55.8, '2006-01-15'],\n",
       "       [34, 25.0, 'road', 'Alphen aan den Rijn', 71.6166666666667,\n",
       "        '2006-03-12'],\n",
       "       [35, 30.0, 'road', 'Kumamoto', 88.0, '2005-02-27'],\n",
       "       [36, 32.18, 'road', 'Chicago', 95.3666666666667, '1985-10-20'],\n",
       "       [37, 50.0, 'road', 'Claremont-Kirstenbosch', 163.63333333333298,\n",
       "        '1988-04-12'],\n",
       "       [38, 100.0, 'road', 'Lake Saroma', 373.55, '1998-06-21'],\n",
       "       [39, 160.9, 'road', 'New York', 706.616666666667, '1984-05-08'],\n",
       "       [40, 290.221, 'road', 'Basle', 1440.0, '1998-05-03']], dtype=object)"
      ]
     },
     "execution_count": 223,
     "metadata": {},
     "output_type": "execute_result"
    }
   ],
   "source": [
    "print('There are', len(Data.values), 'rows')\n",
    "Data.values"
   ]
  },
  {
   "cell_type": "markdown",
   "metadata": {},
   "source": [
    "### Are the columns numerical, categorical, or both?"
   ]
  },
  {
   "cell_type": "code",
   "execution_count": 224,
   "metadata": {},
   "outputs": [
    {
     "name": "stdout",
     "output_type": "stream",
     "text": [
      "Column 1 is numerical\n",
      "Column 2 is numerical\n",
      "Column 3 is categorical\n",
      "Column 4 is categorical\n",
      "Column 5 is numerical\n",
      "Column 6 is categorical\n",
      "The data in worldRecords.csv is both numerical and categorical\n",
      "\n"
     ]
    }
   ],
   "source": [
    "# Booleans used in determining what types of data are in the columns\n",
    "categorical = False\n",
    "numerical = False\n",
    "\n",
    "for i in range(len(Data.values[1])):\n",
    "    # If the data is categorical\n",
    "    if isinstance(Data.values[1][i], str):\n",
    "        print('Column', i+1, 'is categorical')\n",
    "        categorical = True\n",
    "    # Else the data is numerical\n",
    "    else:\n",
    "        print('Column', i+1, 'is numerical')\n",
    "        numerical = True\n",
    "   \n",
    "# If statements to check if the values are numerical, categorical or both\n",
    "if categorical and not numerical:\n",
    "    print(\"The data in worldRecords.csv is categorical\")\n",
    "    print()\n",
    "if not categorical and numerical:\n",
    "    print(\"The data in worldRecords.csv is numerical\")\n",
    "    print()\n",
    "if categorical and numerical:\n",
    "    print(\"The data in worldRecords.csv is both numerical and categorical\")\n",
    "    print()\n",
    "        "
   ]
  },
  {
   "cell_type": "markdown",
   "metadata": {},
   "source": [
    "### Are there columns that provide no information? Just constant values for all observations."
   ]
  },
  {
   "cell_type": "code",
   "execution_count": 225,
   "metadata": {
    "scrolled": true
   },
   "outputs": [
    {
     "name": "stdout",
     "output_type": "stream",
     "text": [
      "Column 1 are indexes of rows, and therefore useless\n"
     ]
    }
   ],
   "source": [
    "# Loops through the first row to determine what kind of data we are looking at\n",
    "for i in range(len(Data.values[1])):\n",
    "    is_useless = False                          # Boolean to determine if a column contains useless information\n",
    "    \n",
    "    # If the data is categorical\n",
    "    if isinstance(Data.values[1][i], str):\n",
    "        doNothing = True\n",
    "    else:\n",
    "        DS1_Sliced = Data.iloc[:, i:i + 1]  # Slices the data into a 1 wide column containing all of the rows\n",
    "\n",
    "        # Loops through each element in the column:\n",
    "        #   Checks to see if the column is just the index for the row\n",
    "        for index, row in DS1_Sliced.iterrows():\n",
    "            if row[0] == index+1:\n",
    "                is_useless = True\n",
    "            else:\n",
    "                is_useless = False\n",
    "        \n",
    "        # If the column is indexes\n",
    "        if is_useless:\n",
    "            print('Column', i+1,  'are indexes of rows, and therefore useless')\n"
   ]
  },
  {
   "cell_type": "markdown",
   "metadata": {},
   "source": [
    "### For each categorical columns compute the mode."
   ]
  },
  {
   "cell_type": "code",
   "execution_count": 226,
   "metadata": {},
   "outputs": [
    {
     "data": {
      "text/plain": [
       "0    track\n",
       "dtype: object"
      ]
     },
     "execution_count": 226,
     "metadata": {},
     "output_type": "execute_result"
    }
   ],
   "source": [
    "Data['roadORtrack'].mode()"
   ]
  },
  {
   "cell_type": "code",
   "execution_count": 227,
   "metadata": {},
   "outputs": [
    {
     "data": {
      "text/plain": [
       "0    London\n",
       "dtype: object"
      ]
     },
     "execution_count": 227,
     "metadata": {},
     "output_type": "execute_result"
    }
   ],
   "source": [
    "Data['Place'].mode()"
   ]
  },
  {
   "cell_type": "code",
   "execution_count": 228,
   "metadata": {},
   "outputs": [
    {
     "data": {
      "text/plain": [
       "0    1981-03-22\n",
       "1    1991-03-30\n",
       "2    2005-09-04\n",
       "dtype: object"
      ]
     },
     "execution_count": 228,
     "metadata": {},
     "output_type": "execute_result"
    }
   ],
   "source": [
    "Data['Date'].mode()"
   ]
  },
  {
   "cell_type": "markdown",
   "metadata": {},
   "source": [
    "### For each numerical column compute the mean (average), max, and min values."
   ]
  },
  {
   "cell_type": "markdown",
   "metadata": {},
   "source": [
    "##### Distance column"
   ]
  },
  {
   "cell_type": "code",
   "execution_count": 229,
   "metadata": {},
   "outputs": [
    {
     "data": {
      "text/plain": [
       "32.112725"
      ]
     },
     "execution_count": 229,
     "metadata": {},
     "output_type": "execute_result"
    }
   ],
   "source": [
    "Data['Distance'].mean()"
   ]
  },
  {
   "cell_type": "code",
   "execution_count": 230,
   "metadata": {},
   "outputs": [
    {
     "data": {
      "text/plain": [
       "0.1"
      ]
     },
     "execution_count": 230,
     "metadata": {},
     "output_type": "execute_result"
    }
   ],
   "source": [
    "Data['Distance'].min()"
   ]
  },
  {
   "cell_type": "code",
   "execution_count": 231,
   "metadata": {},
   "outputs": [
    {
     "data": {
      "text/plain": [
       "290.221"
      ]
     },
     "execution_count": 231,
     "metadata": {},
     "output_type": "execute_result"
    }
   ],
   "source": [
    "Data['Distance'].max()"
   ]
  },
  {
   "cell_type": "markdown",
   "metadata": {},
   "source": [
    "##### Time column"
   ]
  },
  {
   "cell_type": "code",
   "execution_count": 232,
   "metadata": {},
   "outputs": [
    {
     "data": {
      "text/plain": [
       "125.17965"
      ]
     },
     "execution_count": 232,
     "metadata": {},
     "output_type": "execute_result"
    }
   ],
   "source": [
    "Data['Time'].mean()"
   ]
  },
  {
   "cell_type": "code",
   "execution_count": 233,
   "metadata": {},
   "outputs": [
    {
     "data": {
      "text/plain": [
       "0.162833333333333"
      ]
     },
     "execution_count": 233,
     "metadata": {},
     "output_type": "execute_result"
    }
   ],
   "source": [
    "Data['Time'].min()"
   ]
  },
  {
   "cell_type": "code",
   "execution_count": 234,
   "metadata": {},
   "outputs": [
    {
     "data": {
      "text/plain": [
       "1440.0"
      ]
     },
     "execution_count": 234,
     "metadata": {},
     "output_type": "execute_result"
    }
   ],
   "source": [
    "Data['Time'].max()"
   ]
  },
  {
   "cell_type": "markdown",
   "metadata": {},
   "source": [
    "### Plot histograms for numerical columns."
   ]
  },
  {
   "cell_type": "code",
   "execution_count": 236,
   "metadata": {},
   "outputs": [
    {
     "data": {
      "image/png": "[encoded data removed]",
      "text/plain": [
       "<Figure size 432x288 with 1 Axes>"
      ]
     },
     "metadata": {
      "needs_background": "light"
     },
     "output_type": "display_data"
    },
    {
     "data": {
      "image/png": "[encoded data removed]",
      "text/plain": [
       "<Figure size 432x288 with 1 Axes>"
      ]
     },
     "metadata": {
      "needs_background": "light"
     },
     "output_type": "display_data"
    }
   ],
   "source": [
    "# Loops through the first row to determine what kind of data we are looking at\n",
    "for i in range(len(Data.values[1])):\n",
    "    # If the data is categorical\n",
    "    if isinstance(Data.values[1][i], str):\n",
    "        doNothing = True \n",
    "    # Else the data is numerical\n",
    "    else:\n",
    "        Data_Sliced = Data.iloc[:, i:i + 1]  # Slices the data into a 1 wide column containing all of the rows\n",
    "\n",
    "        # Loops through each element in the column:\n",
    "        #   Checks to see if the column is just the index for the row\n",
    "        for index, row in Data_Sliced.iterrows():\n",
    "            if row[0] == index+1:\n",
    "                is_useless = True\n",
    "            else:\n",
    "                is_useless = False\n",
    "\n",
    "        # If the column is not indexes, carry on with processing the data\n",
    "        if not is_useless:\n",
    "            Data_Sliced.hist()\n"
   ]
  },
  {
   "cell_type": "markdown",
   "metadata": {},
   "source": [
    "### Plot bar plots for categorical columns.\n",
    "\n"
   ]
  },
  {
   "cell_type": "code",
   "execution_count": 237,
   "metadata": {},
   "outputs": [
    {
     "data": {
      "text/plain": [
       "<matplotlib.axes._subplots.AxesSubplot at 0x25fb822b240>"
      ]
     },
     "execution_count": 237,
     "metadata": {},
     "output_type": "execute_result"
    },
    {
     "data": {
      "image/png": "[encoded data removed]",
      "text/plain": [
       "<Figure size 432x288 with 1 Axes>"
      ]
     },
     "metadata": {
      "needs_background": "light"
     },
     "output_type": "display_data"
    }
   ],
   "source": [
    "Data['roadORtrack'].value_counts().plot(kind='bar')"
   ]
  },
  {
   "cell_type": "code",
   "execution_count": 238,
   "metadata": {},
   "outputs": [
    {
     "data": {
      "text/plain": [
       "<matplotlib.axes._subplots.AxesSubplot at 0x25fb9481828>"
      ]
     },
     "execution_count": 238,
     "metadata": {},
     "output_type": "execute_result"
    },
    {
     "data": {
      "image/png": "[encoded data removed]",
      "text/plain": [
       "<Figure size 432x288 with 1 Axes>"
      ]
     },
     "metadata": {
      "needs_background": "light"
     },
     "output_type": "display_data"
    }
   ],
   "source": [
    "Data['Place'].value_counts().plot(kind='bar')"
   ]
  },
  {
   "cell_type": "markdown",
   "metadata": {},
   "source": [
    "## Dataset 2: cars.csv"
   ]
  },
  {
   "cell_type": "code",
   "execution_count": 239,
   "metadata": {},
   "outputs": [
    {
     "data": {
      "text/html": [
       "<div>\n",
       "<style scoped>\n",
       "    .dataframe tbody tr th:only-of-type {\n",
       "        vertical-align: middle;\n",
       "    }\n",
       "\n",
       "    .dataframe tbody tr th {\n",
       "        vertical-align: top;\n",
       "    }\n",
       "\n",
       "    .dataframe thead th {\n",
       "        text-align: right;\n",
       "    }\n",
       "</style>\n",
       "<table border=\"1\" class=\"dataframe\">\n",
       "  <thead>\n",
       "    <tr style=\"text-align: right;\">\n",
       "      <th></th>\n",
       "      <th>Unnamed: 0</th>\n",
       "      <th>speed</th>\n",
       "      <th>dist</th>\n",
       "    </tr>\n",
       "  </thead>\n",
       "  <tbody>\n",
       "    <tr>\n",
       "      <th>0</th>\n",
       "      <td>1</td>\n",
       "      <td>4</td>\n",
       "      <td>2</td>\n",
       "    </tr>\n",
       "    <tr>\n",
       "      <th>1</th>\n",
       "      <td>2</td>\n",
       "      <td>4</td>\n",
       "      <td>10</td>\n",
       "    </tr>\n",
       "    <tr>\n",
       "      <th>2</th>\n",
       "      <td>3</td>\n",
       "      <td>7</td>\n",
       "      <td>4</td>\n",
       "    </tr>\n",
       "    <tr>\n",
       "      <th>3</th>\n",
       "      <td>4</td>\n",
       "      <td>7</td>\n",
       "      <td>22</td>\n",
       "    </tr>\n",
       "    <tr>\n",
       "      <th>4</th>\n",
       "      <td>5</td>\n",
       "      <td>8</td>\n",
       "      <td>16</td>\n",
       "    </tr>\n",
       "    <tr>\n",
       "      <th>5</th>\n",
       "      <td>6</td>\n",
       "      <td>9</td>\n",
       "      <td>10</td>\n",
       "    </tr>\n",
       "    <tr>\n",
       "      <th>6</th>\n",
       "      <td>7</td>\n",
       "      <td>10</td>\n",
       "      <td>18</td>\n",
       "    </tr>\n",
       "    <tr>\n",
       "      <th>7</th>\n",
       "      <td>8</td>\n",
       "      <td>10</td>\n",
       "      <td>26</td>\n",
       "    </tr>\n",
       "    <tr>\n",
       "      <th>8</th>\n",
       "      <td>9</td>\n",
       "      <td>10</td>\n",
       "      <td>34</td>\n",
       "    </tr>\n",
       "    <tr>\n",
       "      <th>9</th>\n",
       "      <td>10</td>\n",
       "      <td>11</td>\n",
       "      <td>17</td>\n",
       "    </tr>\n",
       "    <tr>\n",
       "      <th>10</th>\n",
       "      <td>11</td>\n",
       "      <td>11</td>\n",
       "      <td>28</td>\n",
       "    </tr>\n",
       "    <tr>\n",
       "      <th>11</th>\n",
       "      <td>12</td>\n",
       "      <td>12</td>\n",
       "      <td>14</td>\n",
       "    </tr>\n",
       "    <tr>\n",
       "      <th>12</th>\n",
       "      <td>13</td>\n",
       "      <td>12</td>\n",
       "      <td>20</td>\n",
       "    </tr>\n",
       "    <tr>\n",
       "      <th>13</th>\n",
       "      <td>14</td>\n",
       "      <td>12</td>\n",
       "      <td>24</td>\n",
       "    </tr>\n",
       "    <tr>\n",
       "      <th>14</th>\n",
       "      <td>15</td>\n",
       "      <td>12</td>\n",
       "      <td>28</td>\n",
       "    </tr>\n",
       "    <tr>\n",
       "      <th>15</th>\n",
       "      <td>16</td>\n",
       "      <td>13</td>\n",
       "      <td>26</td>\n",
       "    </tr>\n",
       "    <tr>\n",
       "      <th>16</th>\n",
       "      <td>17</td>\n",
       "      <td>13</td>\n",
       "      <td>34</td>\n",
       "    </tr>\n",
       "    <tr>\n",
       "      <th>17</th>\n",
       "      <td>18</td>\n",
       "      <td>13</td>\n",
       "      <td>34</td>\n",
       "    </tr>\n",
       "    <tr>\n",
       "      <th>18</th>\n",
       "      <td>19</td>\n",
       "      <td>13</td>\n",
       "      <td>46</td>\n",
       "    </tr>\n",
       "    <tr>\n",
       "      <th>19</th>\n",
       "      <td>20</td>\n",
       "      <td>14</td>\n",
       "      <td>26</td>\n",
       "    </tr>\n",
       "    <tr>\n",
       "      <th>20</th>\n",
       "      <td>21</td>\n",
       "      <td>14</td>\n",
       "      <td>36</td>\n",
       "    </tr>\n",
       "    <tr>\n",
       "      <th>21</th>\n",
       "      <td>22</td>\n",
       "      <td>14</td>\n",
       "      <td>60</td>\n",
       "    </tr>\n",
       "    <tr>\n",
       "      <th>22</th>\n",
       "      <td>23</td>\n",
       "      <td>14</td>\n",
       "      <td>80</td>\n",
       "    </tr>\n",
       "    <tr>\n",
       "      <th>23</th>\n",
       "      <td>24</td>\n",
       "      <td>15</td>\n",
       "      <td>20</td>\n",
       "    </tr>\n",
       "    <tr>\n",
       "      <th>24</th>\n",
       "      <td>25</td>\n",
       "      <td>15</td>\n",
       "      <td>26</td>\n",
       "    </tr>\n",
       "    <tr>\n",
       "      <th>25</th>\n",
       "      <td>26</td>\n",
       "      <td>15</td>\n",
       "      <td>54</td>\n",
       "    </tr>\n",
       "    <tr>\n",
       "      <th>26</th>\n",
       "      <td>27</td>\n",
       "      <td>16</td>\n",
       "      <td>32</td>\n",
       "    </tr>\n",
       "    <tr>\n",
       "      <th>27</th>\n",
       "      <td>28</td>\n",
       "      <td>16</td>\n",
       "      <td>40</td>\n",
       "    </tr>\n",
       "    <tr>\n",
       "      <th>28</th>\n",
       "      <td>29</td>\n",
       "      <td>17</td>\n",
       "      <td>32</td>\n",
       "    </tr>\n",
       "    <tr>\n",
       "      <th>29</th>\n",
       "      <td>30</td>\n",
       "      <td>17</td>\n",
       "      <td>40</td>\n",
       "    </tr>\n",
       "    <tr>\n",
       "      <th>30</th>\n",
       "      <td>31</td>\n",
       "      <td>17</td>\n",
       "      <td>50</td>\n",
       "    </tr>\n",
       "    <tr>\n",
       "      <th>31</th>\n",
       "      <td>32</td>\n",
       "      <td>18</td>\n",
       "      <td>42</td>\n",
       "    </tr>\n",
       "    <tr>\n",
       "      <th>32</th>\n",
       "      <td>33</td>\n",
       "      <td>18</td>\n",
       "      <td>56</td>\n",
       "    </tr>\n",
       "    <tr>\n",
       "      <th>33</th>\n",
       "      <td>34</td>\n",
       "      <td>18</td>\n",
       "      <td>76</td>\n",
       "    </tr>\n",
       "    <tr>\n",
       "      <th>34</th>\n",
       "      <td>35</td>\n",
       "      <td>18</td>\n",
       "      <td>84</td>\n",
       "    </tr>\n",
       "    <tr>\n",
       "      <th>35</th>\n",
       "      <td>36</td>\n",
       "      <td>19</td>\n",
       "      <td>36</td>\n",
       "    </tr>\n",
       "    <tr>\n",
       "      <th>36</th>\n",
       "      <td>37</td>\n",
       "      <td>19</td>\n",
       "      <td>46</td>\n",
       "    </tr>\n",
       "    <tr>\n",
       "      <th>37</th>\n",
       "      <td>38</td>\n",
       "      <td>19</td>\n",
       "      <td>68</td>\n",
       "    </tr>\n",
       "    <tr>\n",
       "      <th>38</th>\n",
       "      <td>39</td>\n",
       "      <td>20</td>\n",
       "      <td>32</td>\n",
       "    </tr>\n",
       "    <tr>\n",
       "      <th>39</th>\n",
       "      <td>40</td>\n",
       "      <td>20</td>\n",
       "      <td>48</td>\n",
       "    </tr>\n",
       "    <tr>\n",
       "      <th>40</th>\n",
       "      <td>41</td>\n",
       "      <td>20</td>\n",
       "      <td>52</td>\n",
       "    </tr>\n",
       "    <tr>\n",
       "      <th>41</th>\n",
       "      <td>42</td>\n",
       "      <td>20</td>\n",
       "      <td>56</td>\n",
       "    </tr>\n",
       "    <tr>\n",
       "      <th>42</th>\n",
       "      <td>43</td>\n",
       "      <td>20</td>\n",
       "      <td>64</td>\n",
       "    </tr>\n",
       "    <tr>\n",
       "      <th>43</th>\n",
       "      <td>44</td>\n",
       "      <td>22</td>\n",
       "      <td>66</td>\n",
       "    </tr>\n",
       "    <tr>\n",
       "      <th>44</th>\n",
       "      <td>45</td>\n",
       "      <td>23</td>\n",
       "      <td>54</td>\n",
       "    </tr>\n",
       "    <tr>\n",
       "      <th>45</th>\n",
       "      <td>46</td>\n",
       "      <td>24</td>\n",
       "      <td>70</td>\n",
       "    </tr>\n",
       "    <tr>\n",
       "      <th>46</th>\n",
       "      <td>47</td>\n",
       "      <td>24</td>\n",
       "      <td>92</td>\n",
       "    </tr>\n",
       "    <tr>\n",
       "      <th>47</th>\n",
       "      <td>48</td>\n",
       "      <td>24</td>\n",
       "      <td>93</td>\n",
       "    </tr>\n",
       "    <tr>\n",
       "      <th>48</th>\n",
       "      <td>49</td>\n",
       "      <td>24</td>\n",
       "      <td>120</td>\n",
       "    </tr>\n",
       "    <tr>\n",
       "      <th>49</th>\n",
       "      <td>50</td>\n",
       "      <td>25</td>\n",
       "      <td>85</td>\n",
       "    </tr>\n",
       "  </tbody>\n",
       "</table>\n",
       "</div>"
      ],
      "text/plain": [
       "    Unnamed: 0  speed  dist\n",
       "0            1      4     2\n",
       "1            2      4    10\n",
       "2            3      7     4\n",
       "3            4      7    22\n",
       "4            5      8    16\n",
       "5            6      9    10\n",
       "6            7     10    18\n",
       "7            8     10    26\n",
       "8            9     10    34\n",
       "9           10     11    17\n",
       "10          11     11    28\n",
       "11          12     12    14\n",
       "12          13     12    20\n",
       "13          14     12    24\n",
       "14          15     12    28\n",
       "15          16     13    26\n",
       "16          17     13    34\n",
       "17          18     13    34\n",
       "18          19     13    46\n",
       "19          20     14    26\n",
       "20          21     14    36\n",
       "21          22     14    60\n",
       "22          23     14    80\n",
       "23          24     15    20\n",
       "24          25     15    26\n",
       "25          26     15    54\n",
       "26          27     16    32\n",
       "27          28     16    40\n",
       "28          29     17    32\n",
       "29          30     17    40\n",
       "30          31     17    50\n",
       "31          32     18    42\n",
       "32          33     18    56\n",
       "33          34     18    76\n",
       "34          35     18    84\n",
       "35          36     19    36\n",
       "36          37     19    46\n",
       "37          38     19    68\n",
       "38          39     20    32\n",
       "39          40     20    48\n",
       "40          41     20    52\n",
       "41          42     20    56\n",
       "42          43     20    64\n",
       "43          44     22    66\n",
       "44          45     23    54\n",
       "45          46     24    70\n",
       "46          47     24    92\n",
       "47          48     24    93\n",
       "48          49     24   120\n",
       "49          50     25    85"
      ]
     },
     "execution_count": 239,
     "metadata": {},
     "output_type": "execute_result"
    }
   ],
   "source": [
    "import pandas as pd\n",
    "Data = pd.read_csv('cars.csv')\n",
    "Data"
   ]
  },
  {
   "cell_type": "markdown",
   "metadata": {},
   "source": [
    "### How many columns are there?"
   ]
  },
  {
   "cell_type": "code",
   "execution_count": 240,
   "metadata": {},
   "outputs": [
    {
     "name": "stdout",
     "output_type": "stream",
     "text": [
      "There are 3 Columns\n"
     ]
    },
    {
     "data": {
      "text/plain": [
       "Index(['Unnamed: 0', 'speed', 'dist'], dtype='object')"
      ]
     },
     "execution_count": 240,
     "metadata": {},
     "output_type": "execute_result"
    }
   ],
   "source": [
    "print('There are', len(Data.columns), 'Columns')\n",
    "Data.columns"
   ]
  },
  {
   "cell_type": "markdown",
   "metadata": {},
   "source": [
    "### How many rows are there?"
   ]
  },
  {
   "cell_type": "code",
   "execution_count": 241,
   "metadata": {},
   "outputs": [
    {
     "name": "stdout",
     "output_type": "stream",
     "text": [
      "There are 50 rows\n"
     ]
    },
    {
     "data": {
      "text/plain": [
       "array([[  1,   4,   2],\n",
       "       [  2,   4,  10],\n",
       "       [  3,   7,   4],\n",
       "       [  4,   7,  22],\n",
       "       [  5,   8,  16],\n",
       "       [  6,   9,  10],\n",
       "       [  7,  10,  18],\n",
       "       [  8,  10,  26],\n",
       "       [  9,  10,  34],\n",
       "       [ 10,  11,  17],\n",
       "       [ 11,  11,  28],\n",
       "       [ 12,  12,  14],\n",
       "       [ 13,  12,  20],\n",
       "       [ 14,  12,  24],\n",
       "       [ 15,  12,  28],\n",
       "       [ 16,  13,  26],\n",
       "       [ 17,  13,  34],\n",
       "       [ 18,  13,  34],\n",
       "       [ 19,  13,  46],\n",
       "       [ 20,  14,  26],\n",
       "       [ 21,  14,  36],\n",
       "       [ 22,  14,  60],\n",
       "       [ 23,  14,  80],\n",
       "       [ 24,  15,  20],\n",
       "       [ 25,  15,  26],\n",
       "       [ 26,  15,  54],\n",
       "       [ 27,  16,  32],\n",
       "       [ 28,  16,  40],\n",
       "       [ 29,  17,  32],\n",
       "       [ 30,  17,  40],\n",
       "       [ 31,  17,  50],\n",
       "       [ 32,  18,  42],\n",
       "       [ 33,  18,  56],\n",
       "       [ 34,  18,  76],\n",
       "       [ 35,  18,  84],\n",
       "       [ 36,  19,  36],\n",
       "       [ 37,  19,  46],\n",
       "       [ 38,  19,  68],\n",
       "       [ 39,  20,  32],\n",
       "       [ 40,  20,  48],\n",
       "       [ 41,  20,  52],\n",
       "       [ 42,  20,  56],\n",
       "       [ 43,  20,  64],\n",
       "       [ 44,  22,  66],\n",
       "       [ 45,  23,  54],\n",
       "       [ 46,  24,  70],\n",
       "       [ 47,  24,  92],\n",
       "       [ 48,  24,  93],\n",
       "       [ 49,  24, 120],\n",
       "       [ 50,  25,  85]], dtype=int64)"
      ]
     },
     "execution_count": 241,
     "metadata": {},
     "output_type": "execute_result"
    }
   ],
   "source": [
    "print('There are', len(Data.values), 'rows')\n",
    "Data.values"
   ]
  },
  {
   "cell_type": "markdown",
   "metadata": {},
   "source": [
    "### Are the columns numerical, categorical, or both?"
   ]
  },
  {
   "cell_type": "code",
   "execution_count": 242,
   "metadata": {},
   "outputs": [
    {
     "name": "stdout",
     "output_type": "stream",
     "text": [
      "Column 1 is numerical\n",
      "Column 2 is numerical\n",
      "Column 3 is numerical\n",
      "The data in cars.csv is numerical\n",
      "\n"
     ]
    }
   ],
   "source": [
    "# Booleans used in determining what types of data are in the columns\n",
    "categorical = False\n",
    "numerical = False\n",
    "\n",
    "for i in range(len(Data.values[1])):\n",
    "    # If the data is categorical\n",
    "    if isinstance(Data.values[1][i], str):\n",
    "        print('Column', i+1, 'is categorical')\n",
    "        categorical = True\n",
    "    # Else the data is numerical\n",
    "    else:\n",
    "        print('Column', i+1, 'is numerical')\n",
    "        numerical = True\n",
    "   \n",
    "# If statements to check if the values are numerical, categorical or both\n",
    "if categorical and not numerical:\n",
    "    print(\"The data in cars.csv is categorical\")\n",
    "    print()\n",
    "if not categorical and numerical:\n",
    "    print(\"The data in cars.csv is numerical\")\n",
    "    print()\n",
    "if categorical and numerical:\n",
    "    print(\"The data in Cars.csv is both numerical and categorical\")\n",
    "    print()\n",
    "        "
   ]
  },
  {
   "cell_type": "markdown",
   "metadata": {},
   "source": [
    "### Are there columns that provide no information? Just constant values for all observations."
   ]
  },
  {
   "cell_type": "code",
   "execution_count": 243,
   "metadata": {},
   "outputs": [
    {
     "name": "stdout",
     "output_type": "stream",
     "text": [
      "Column 1 are indexes of rows, and therefore useless\n"
     ]
    }
   ],
   "source": [
    "# Loops through the first row to determine what kind of data we are looking at\n",
    "for i in range(len(Data.values[1])):\n",
    "    is_useless = False                          # Boolean to determine if a column contains useless information\n",
    "    \n",
    "    # If the data is categorical\n",
    "    if isinstance(Data.values[1][i], str):\n",
    "        doNothing = True\n",
    "    else:\n",
    "        DS1_Sliced = Data.iloc[:, i:i + 1]  # Slices the data into a 1 wide column containing all of the rows\n",
    "\n",
    "        # Loops through each element in the column:\n",
    "        #   Checks to see if the column is just the index for the row\n",
    "        for index, row in DS1_Sliced.iterrows():\n",
    "            if row[0] == index+1:\n",
    "                is_useless = True\n",
    "            else:\n",
    "                is_useless = False\n",
    "        \n",
    "        # If the column is indexes\n",
    "        if is_useless:\n",
    "            print('Column', i+1,  'are indexes of rows, and therefore useless')\n"
   ]
  },
  {
   "cell_type": "markdown",
   "metadata": {},
   "source": [
    "### For each categorical columns compute the mode."
   ]
  },
  {
   "cell_type": "code",
   "execution_count": 244,
   "metadata": {
    "scrolled": true
   },
   "outputs": [
    {
     "name": "stdout",
     "output_type": "stream",
     "text": [
      "no categorical columns in this dataset\n"
     ]
    }
   ],
   "source": [
    "print(\"no categorical columns in this dataset\")"
   ]
  },
  {
   "cell_type": "markdown",
   "metadata": {},
   "source": [
    "### For each numerical column compute the mean (average), max, and min values."
   ]
  },
  {
   "cell_type": "markdown",
   "metadata": {},
   "source": [
    "##### Speed column"
   ]
  },
  {
   "cell_type": "code",
   "execution_count": 245,
   "metadata": {
    "scrolled": false
   },
   "outputs": [
    {
     "data": {
      "text/plain": [
       "15.4"
      ]
     },
     "execution_count": 245,
     "metadata": {},
     "output_type": "execute_result"
    }
   ],
   "source": [
    "Data['speed'].mean()"
   ]
  },
  {
   "cell_type": "code",
   "execution_count": 246,
   "metadata": {},
   "outputs": [
    {
     "data": {
      "text/plain": [
       "4"
      ]
     },
     "execution_count": 246,
     "metadata": {},
     "output_type": "execute_result"
    }
   ],
   "source": [
    "Data['speed'].min()"
   ]
  },
  {
   "cell_type": "code",
   "execution_count": 247,
   "metadata": {},
   "outputs": [
    {
     "data": {
      "text/plain": [
       "25"
      ]
     },
     "execution_count": 247,
     "metadata": {},
     "output_type": "execute_result"
    }
   ],
   "source": [
    "Data['speed'].max()"
   ]
  },
  {
   "cell_type": "markdown",
   "metadata": {},
   "source": [
    "##### Dist column"
   ]
  },
  {
   "cell_type": "code",
   "execution_count": 248,
   "metadata": {},
   "outputs": [
    {
     "data": {
      "text/plain": [
       "42.98"
      ]
     },
     "execution_count": 248,
     "metadata": {},
     "output_type": "execute_result"
    }
   ],
   "source": [
    "Data['dist'].mean()"
   ]
  },
  {
   "cell_type": "code",
   "execution_count": 249,
   "metadata": {},
   "outputs": [
    {
     "data": {
      "text/plain": [
       "2"
      ]
     },
     "execution_count": 249,
     "metadata": {},
     "output_type": "execute_result"
    }
   ],
   "source": [
    "Data['dist'].min()"
   ]
  },
  {
   "cell_type": "code",
   "execution_count": 250,
   "metadata": {},
   "outputs": [
    {
     "data": {
      "text/plain": [
       "120"
      ]
     },
     "execution_count": 250,
     "metadata": {},
     "output_type": "execute_result"
    }
   ],
   "source": [
    "Data['dist'].max()"
   ]
  },
  {
   "cell_type": "markdown",
   "metadata": {},
   "source": [
    "### Plot histograms for numerical columns."
   ]
  },
  {
   "cell_type": "code",
   "execution_count": 251,
   "metadata": {
    "scrolled": true
   },
   "outputs": [
    {
     "data": {
      "image/png": "[encoded data removed]",
      "text/plain": [
       "<Figure size 432x288 with 1 Axes>"
      ]
     },
     "metadata": {
      "needs_background": "light"
     },
     "output_type": "display_data"
    },
    {
     "data": {
      "image/png": "[encoded data removed]",
      "text/plain": [
       "<Figure size 432x288 with 1 Axes>"
      ]
     },
     "metadata": {
      "needs_background": "light"
     },
     "output_type": "display_data"
    }
   ],
   "source": [
    "# Loops through the first row to determine what kind of data we are looking at\n",
    "for i in range(len(Data.values[1])):\n",
    "    # If the data is categorical\n",
    "    if isinstance(Data.values[1][i], str):\n",
    "        doNothing = True \n",
    "    # Else the data is numerical\n",
    "    else:\n",
    "        Data_Sliced = Data.iloc[:, i:i + 1]  # Slices the data into a 1 wide column containing all of the rows\n",
    "\n",
    "        # Loops through each element in the column:\n",
    "        #   Checks to see if the column is just the index for the row\n",
    "        for index, row in Data_Sliced.iterrows():\n",
    "            if row[0] == index+1:\n",
    "                is_useless = True\n",
    "            else:\n",
    "                is_useless = False\n",
    "\n",
    "        # If the column is not indexes, carry on with processing the data\n",
    "        if not is_useless:\n",
    "            Data_Sliced.hist()\n"
   ]
  },
  {
   "cell_type": "markdown",
   "metadata": {},
   "source": [
    "### Plot bar plots for categorical columns.\n",
    "\n"
   ]
  },
  {
   "cell_type": "markdown",
   "metadata": {},
   "source": [
    "No categorical columns here"
   ]
  },
  {
   "cell_type": "code",
   "execution_count": null,
   "metadata": {},
   "outputs": [],
   "source": []
  }
 ],
 "metadata": {
  "kernelspec": {
   "display_name": "Python 3",
   "language": "python",
   "name": "python3"
  },
  "language_info": {
   "codemirror_mode": {
    "name": "ipython",
    "version": 3
   },
   "file_extension": ".py",
   "mimetype": "text/x-python",
   "name": "python",
   "nbconvert_exporter": "python",
   "pygments_lexer": "ipython3",
   "version": "3.7.1"
  }
 },
 "nbformat": 4,
 "nbformat_minor": 2
}
