{
 "cells": [
  {
   "cell_type": "code",
   "execution_count": 1,
   "metadata": {},
   "outputs": [],
   "source": [
    "import pandas"
   ]
  },
  {
   "cell_type": "code",
   "execution_count": 2,
   "metadata": {},
   "outputs": [],
   "source": [
    "data_set = pandas.read_csv(\"worldRecords.csv\")"
   ]
  },
  {
   "cell_type": "code",
   "execution_count": 3,
   "metadata": {},
   "outputs": [
    {
     "data": {
      "text/html": [
       "<div>\n",
       "<style scoped>\n",
       "    .dataframe tbody tr th:only-of-type {\n",
       "        vertical-align: middle;\n",
       "    }\n",
       "\n",
       "    .dataframe tbody tr th {\n",
       "        vertical-align: top;\n",
       "    }\n",
       "\n",
       "    .dataframe thead th {\n",
       "        text-align: right;\n",
       "    }\n",
       "</style>\n",
       "<table border=\"1\" class=\"dataframe\">\n",
       "  <thead>\n",
       "    <tr style=\"text-align: right;\">\n",
       "      <th></th>\n",
       "      <th>Unnamed: 0</th>\n",
       "      <th>Distance</th>\n",
       "      <th>roadORtrack</th>\n",
       "      <th>Place</th>\n",
       "      <th>Time</th>\n",
       "      <th>Date</th>\n",
       "    </tr>\n",
       "  </thead>\n",
       "  <tbody>\n",
       "    <tr>\n",
       "      <th>0</th>\n",
       "      <td>1</td>\n",
       "      <td>0.100</td>\n",
       "      <td>track</td>\n",
       "      <td>Athens</td>\n",
       "      <td>0.162833</td>\n",
       "      <td>2005-06-14</td>\n",
       "    </tr>\n",
       "    <tr>\n",
       "      <th>1</th>\n",
       "      <td>2</td>\n",
       "      <td>0.150</td>\n",
       "      <td>track</td>\n",
       "      <td>Cassino</td>\n",
       "      <td>0.246667</td>\n",
       "      <td>1983-05-22</td>\n",
       "    </tr>\n",
       "    <tr>\n",
       "      <th>2</th>\n",
       "      <td>3</td>\n",
       "      <td>0.200</td>\n",
       "      <td>track</td>\n",
       "      <td>Atlanta</td>\n",
       "      <td>0.322000</td>\n",
       "      <td>1996-08-01</td>\n",
       "    </tr>\n",
       "    <tr>\n",
       "      <th>3</th>\n",
       "      <td>4</td>\n",
       "      <td>0.300</td>\n",
       "      <td>track</td>\n",
       "      <td>Pretoria</td>\n",
       "      <td>0.514167</td>\n",
       "      <td>2000-03-24</td>\n",
       "    </tr>\n",
       "    <tr>\n",
       "      <th>4</th>\n",
       "      <td>5</td>\n",
       "      <td>0.400</td>\n",
       "      <td>track</td>\n",
       "      <td>Seville</td>\n",
       "      <td>0.719667</td>\n",
       "      <td>1999-08-26</td>\n",
       "    </tr>\n",
       "    <tr>\n",
       "      <th>5</th>\n",
       "      <td>6</td>\n",
       "      <td>0.500</td>\n",
       "      <td>track</td>\n",
       "      <td>Busto Arsizio</td>\n",
       "      <td>1.001333</td>\n",
       "      <td>1984-05-26</td>\n",
       "    </tr>\n",
       "    <tr>\n",
       "      <th>6</th>\n",
       "      <td>7</td>\n",
       "      <td>0.600</td>\n",
       "      <td>track</td>\n",
       "      <td>Santa Monica</td>\n",
       "      <td>1.213500</td>\n",
       "      <td>1986-05-24</td>\n",
       "    </tr>\n",
       "    <tr>\n",
       "      <th>7</th>\n",
       "      <td>8</td>\n",
       "      <td>0.800</td>\n",
       "      <td>track</td>\n",
       "      <td>Cologne</td>\n",
       "      <td>1.685167</td>\n",
       "      <td>1997-08-24</td>\n",
       "    </tr>\n",
       "    <tr>\n",
       "      <th>8</th>\n",
       "      <td>9</td>\n",
       "      <td>1.000</td>\n",
       "      <td>track</td>\n",
       "      <td>Rieti</td>\n",
       "      <td>2.199333</td>\n",
       "      <td>1999-09-05</td>\n",
       "    </tr>\n",
       "    <tr>\n",
       "      <th>9</th>\n",
       "      <td>10</td>\n",
       "      <td>1.500</td>\n",
       "      <td>track</td>\n",
       "      <td>Rome</td>\n",
       "      <td>3.433333</td>\n",
       "      <td>1998-07-14</td>\n",
       "    </tr>\n",
       "    <tr>\n",
       "      <th>10</th>\n",
       "      <td>11</td>\n",
       "      <td>1.609</td>\n",
       "      <td>track</td>\n",
       "      <td>Rome</td>\n",
       "      <td>3.718833</td>\n",
       "      <td>1999-07-07</td>\n",
       "    </tr>\n",
       "    <tr>\n",
       "      <th>11</th>\n",
       "      <td>12</td>\n",
       "      <td>2.000</td>\n",
       "      <td>track</td>\n",
       "      <td>Berlin</td>\n",
       "      <td>4.746500</td>\n",
       "      <td>1999-09-07</td>\n",
       "    </tr>\n",
       "    <tr>\n",
       "      <th>12</th>\n",
       "      <td>13</td>\n",
       "      <td>3.000</td>\n",
       "      <td>track</td>\n",
       "      <td>Rieti</td>\n",
       "      <td>7.344500</td>\n",
       "      <td>1996-09-01</td>\n",
       "    </tr>\n",
       "    <tr>\n",
       "      <th>13</th>\n",
       "      <td>14</td>\n",
       "      <td>3.218</td>\n",
       "      <td>track</td>\n",
       "      <td>Hechtel</td>\n",
       "      <td>7.976833</td>\n",
       "      <td>1997-07-19</td>\n",
       "    </tr>\n",
       "    <tr>\n",
       "      <th>14</th>\n",
       "      <td>15</td>\n",
       "      <td>5.000</td>\n",
       "      <td>track</td>\n",
       "      <td>Hengelo</td>\n",
       "      <td>12.622500</td>\n",
       "      <td>2004-05-31</td>\n",
       "    </tr>\n",
       "    <tr>\n",
       "      <th>15</th>\n",
       "      <td>16</td>\n",
       "      <td>10.000</td>\n",
       "      <td>track</td>\n",
       "      <td>Brussels</td>\n",
       "      <td>26.292167</td>\n",
       "      <td>2005-08-26</td>\n",
       "    </tr>\n",
       "    <tr>\n",
       "      <th>16</th>\n",
       "      <td>17</td>\n",
       "      <td>15.000</td>\n",
       "      <td>track</td>\n",
       "      <td>La Fleche</td>\n",
       "      <td>42.566667</td>\n",
       "      <td>1991-03-30</td>\n",
       "    </tr>\n",
       "    <tr>\n",
       "      <th>17</th>\n",
       "      <td>18</td>\n",
       "      <td>20.000</td>\n",
       "      <td>track</td>\n",
       "      <td>La Fleche</td>\n",
       "      <td>56.926667</td>\n",
       "      <td>1991-03-30</td>\n",
       "    </tr>\n",
       "    <tr>\n",
       "      <th>18</th>\n",
       "      <td>19</td>\n",
       "      <td>25.000</td>\n",
       "      <td>track</td>\n",
       "      <td>Christchurch</td>\n",
       "      <td>73.930000</td>\n",
       "      <td>1981-03-22</td>\n",
       "    </tr>\n",
       "    <tr>\n",
       "      <th>19</th>\n",
       "      <td>20</td>\n",
       "      <td>30.000</td>\n",
       "      <td>track</td>\n",
       "      <td>Christchurch</td>\n",
       "      <td>89.313333</td>\n",
       "      <td>1981-03-22</td>\n",
       "    </tr>\n",
       "    <tr>\n",
       "      <th>20</th>\n",
       "      <td>21</td>\n",
       "      <td>50.000</td>\n",
       "      <td>track</td>\n",
       "      <td>Timperley</td>\n",
       "      <td>168.100000</td>\n",
       "      <td>1980-06-07</td>\n",
       "    </tr>\n",
       "    <tr>\n",
       "      <th>21</th>\n",
       "      <td>22</td>\n",
       "      <td>64.360</td>\n",
       "      <td>track</td>\n",
       "      <td>London</td>\n",
       "      <td>228.583333</td>\n",
       "      <td>1982-10-16</td>\n",
       "    </tr>\n",
       "    <tr>\n",
       "      <th>22</th>\n",
       "      <td>23</td>\n",
       "      <td>100.000</td>\n",
       "      <td>track</td>\n",
       "      <td>London</td>\n",
       "      <td>370.333333</td>\n",
       "      <td>1978-10-28</td>\n",
       "    </tr>\n",
       "    <tr>\n",
       "      <th>23</th>\n",
       "      <td>24</td>\n",
       "      <td>160.900</td>\n",
       "      <td>track</td>\n",
       "      <td>London</td>\n",
       "      <td>688.050000</td>\n",
       "      <td>2002-10-20</td>\n",
       "    </tr>\n",
       "    <tr>\n",
       "      <th>24</th>\n",
       "      <td>25</td>\n",
       "      <td>5.000</td>\n",
       "      <td>road</td>\n",
       "      <td>Carlsbad</td>\n",
       "      <td>13.000000</td>\n",
       "      <td>2000-03-26</td>\n",
       "    </tr>\n",
       "    <tr>\n",
       "      <th>25</th>\n",
       "      <td>26</td>\n",
       "      <td>6.436</td>\n",
       "      <td>road</td>\n",
       "      <td>Groningen</td>\n",
       "      <td>17.166667</td>\n",
       "      <td>2005-10-09</td>\n",
       "    </tr>\n",
       "    <tr>\n",
       "      <th>26</th>\n",
       "      <td>27</td>\n",
       "      <td>8.000</td>\n",
       "      <td>road</td>\n",
       "      <td>Dublin</td>\n",
       "      <td>22.033333</td>\n",
       "      <td>1993-05-02</td>\n",
       "    </tr>\n",
       "    <tr>\n",
       "      <th>27</th>\n",
       "      <td>28</td>\n",
       "      <td>8.045</td>\n",
       "      <td>road</td>\n",
       "      <td>New Orleans</td>\n",
       "      <td>22.083333</td>\n",
       "      <td>1993-03-20</td>\n",
       "    </tr>\n",
       "    <tr>\n",
       "      <th>28</th>\n",
       "      <td>29</td>\n",
       "      <td>10.000</td>\n",
       "      <td>road</td>\n",
       "      <td>Doha</td>\n",
       "      <td>27.033333</td>\n",
       "      <td>2002-12-11</td>\n",
       "    </tr>\n",
       "    <tr>\n",
       "      <th>29</th>\n",
       "      <td>30</td>\n",
       "      <td>12.000</td>\n",
       "      <td>road</td>\n",
       "      <td>Evansville</td>\n",
       "      <td>33.516667</td>\n",
       "      <td>1997-05-10</td>\n",
       "    </tr>\n",
       "    <tr>\n",
       "      <th>30</th>\n",
       "      <td>31</td>\n",
       "      <td>15.000</td>\n",
       "      <td>road</td>\n",
       "      <td>Tilburg</td>\n",
       "      <td>41.366667</td>\n",
       "      <td>2005-09-04</td>\n",
       "    </tr>\n",
       "    <tr>\n",
       "      <th>31</th>\n",
       "      <td>32</td>\n",
       "      <td>16.090</td>\n",
       "      <td>road</td>\n",
       "      <td>Tilburg</td>\n",
       "      <td>44.400000</td>\n",
       "      <td>2005-09-04</td>\n",
       "    </tr>\n",
       "    <tr>\n",
       "      <th>32</th>\n",
       "      <td>33</td>\n",
       "      <td>20.000</td>\n",
       "      <td>road</td>\n",
       "      <td>Phoenix-Tempe</td>\n",
       "      <td>55.800000</td>\n",
       "      <td>2006-01-15</td>\n",
       "    </tr>\n",
       "    <tr>\n",
       "      <th>33</th>\n",
       "      <td>34</td>\n",
       "      <td>25.000</td>\n",
       "      <td>road</td>\n",
       "      <td>Alphen aan den Rijn</td>\n",
       "      <td>71.616667</td>\n",
       "      <td>2006-03-12</td>\n",
       "    </tr>\n",
       "    <tr>\n",
       "      <th>34</th>\n",
       "      <td>35</td>\n",
       "      <td>30.000</td>\n",
       "      <td>road</td>\n",
       "      <td>Kumamoto</td>\n",
       "      <td>88.000000</td>\n",
       "      <td>2005-02-27</td>\n",
       "    </tr>\n",
       "    <tr>\n",
       "      <th>35</th>\n",
       "      <td>36</td>\n",
       "      <td>32.180</td>\n",
       "      <td>road</td>\n",
       "      <td>Chicago</td>\n",
       "      <td>95.366667</td>\n",
       "      <td>1985-10-20</td>\n",
       "    </tr>\n",
       "    <tr>\n",
       "      <th>36</th>\n",
       "      <td>37</td>\n",
       "      <td>50.000</td>\n",
       "      <td>road</td>\n",
       "      <td>Claremont-Kirstenbosch</td>\n",
       "      <td>163.633333</td>\n",
       "      <td>1988-04-12</td>\n",
       "    </tr>\n",
       "    <tr>\n",
       "      <th>37</th>\n",
       "      <td>38</td>\n",
       "      <td>100.000</td>\n",
       "      <td>road</td>\n",
       "      <td>Lake Saroma</td>\n",
       "      <td>373.550000</td>\n",
       "      <td>1998-06-21</td>\n",
       "    </tr>\n",
       "    <tr>\n",
       "      <th>38</th>\n",
       "      <td>39</td>\n",
       "      <td>160.900</td>\n",
       "      <td>road</td>\n",
       "      <td>New York</td>\n",
       "      <td>706.616667</td>\n",
       "      <td>1984-05-08</td>\n",
       "    </tr>\n",
       "    <tr>\n",
       "      <th>39</th>\n",
       "      <td>40</td>\n",
       "      <td>290.221</td>\n",
       "      <td>road</td>\n",
       "      <td>Basle</td>\n",
       "      <td>1440.000000</td>\n",
       "      <td>1998-05-03</td>\n",
       "    </tr>\n",
       "  </tbody>\n",
       "</table>\n",
       "</div>"
      ],
      "text/plain": [
       "    Unnamed: 0  Distance roadORtrack                   Place         Time  \\\n",
       "0            1     0.100       track                  Athens     0.162833   \n",
       "1            2     0.150       track                 Cassino     0.246667   \n",
       "2            3     0.200       track                 Atlanta     0.322000   \n",
       "3            4     0.300       track                Pretoria     0.514167   \n",
       "4            5     0.400       track                 Seville     0.719667   \n",
       "5            6     0.500       track           Busto Arsizio     1.001333   \n",
       "6            7     0.600       track            Santa Monica     1.213500   \n",
       "7            8     0.800       track                 Cologne     1.685167   \n",
       "8            9     1.000       track                   Rieti     2.199333   \n",
       "9           10     1.500       track                    Rome     3.433333   \n",
       "10          11     1.609       track                    Rome     3.718833   \n",
       "11          12     2.000       track                  Berlin     4.746500   \n",
       "12          13     3.000       track                   Rieti     7.344500   \n",
       "13          14     3.218       track                 Hechtel     7.976833   \n",
       "14          15     5.000       track                 Hengelo    12.622500   \n",
       "15          16    10.000       track                Brussels    26.292167   \n",
       "16          17    15.000       track               La Fleche    42.566667   \n",
       "17          18    20.000       track               La Fleche    56.926667   \n",
       "18          19    25.000       track            Christchurch    73.930000   \n",
       "19          20    30.000       track            Christchurch    89.313333   \n",
       "20          21    50.000       track               Timperley   168.100000   \n",
       "21          22    64.360       track                  London   228.583333   \n",
       "22          23   100.000       track                  London   370.333333   \n",
       "23          24   160.900       track                  London   688.050000   \n",
       "24          25     5.000        road                Carlsbad    13.000000   \n",
       "25          26     6.436        road               Groningen    17.166667   \n",
       "26          27     8.000        road                  Dublin    22.033333   \n",
       "27          28     8.045        road             New Orleans    22.083333   \n",
       "28          29    10.000        road                    Doha    27.033333   \n",
       "29          30    12.000        road              Evansville    33.516667   \n",
       "30          31    15.000        road                 Tilburg    41.366667   \n",
       "31          32    16.090        road                 Tilburg    44.400000   \n",
       "32          33    20.000        road           Phoenix-Tempe    55.800000   \n",
       "33          34    25.000        road     Alphen aan den Rijn    71.616667   \n",
       "34          35    30.000        road                Kumamoto    88.000000   \n",
       "35          36    32.180        road                 Chicago    95.366667   \n",
       "36          37    50.000        road  Claremont-Kirstenbosch   163.633333   \n",
       "37          38   100.000        road             Lake Saroma   373.550000   \n",
       "38          39   160.900        road                New York   706.616667   \n",
       "39          40   290.221        road                   Basle  1440.000000   \n",
       "\n",
       "          Date  \n",
       "0   2005-06-14  \n",
       "1   1983-05-22  \n",
       "2   1996-08-01  \n",
       "3   2000-03-24  \n",
       "4   1999-08-26  \n",
       "5   1984-05-26  \n",
       "6   1986-05-24  \n",
       "7   1997-08-24  \n",
       "8   1999-09-05  \n",
       "9   1998-07-14  \n",
       "10  1999-07-07  \n",
       "11  1999-09-07  \n",
       "12  1996-09-01  \n",
       "13  1997-07-19  \n",
       "14  2004-05-31  \n",
       "15  2005-08-26  \n",
       "16  1991-03-30  \n",
       "17  1991-03-30  \n",
       "18  1981-03-22  \n",
       "19  1981-03-22  \n",
       "20  1980-06-07  \n",
       "21  1982-10-16  \n",
       "22  1978-10-28  \n",
       "23  2002-10-20  \n",
       "24  2000-03-26  \n",
       "25  2005-10-09  \n",
       "26  1993-05-02  \n",
       "27  1993-03-20  \n",
       "28  2002-12-11  \n",
       "29  1997-05-10  \n",
       "30  2005-09-04  \n",
       "31  2005-09-04  \n",
       "32  2006-01-15  \n",
       "33  2006-03-12  \n",
       "34  2005-02-27  \n",
       "35  1985-10-20  \n",
       "36  1988-04-12  \n",
       "37  1998-06-21  \n",
       "38  1984-05-08  \n",
       "39  1998-05-03  "
      ]
     },
     "execution_count": 3,
     "metadata": {},
     "output_type": "execute_result"
    }
   ],
   "source": [
    "data_set"
   ]
  },
  {
   "cell_type": "markdown",
   "metadata": {},
   "source": [
    "## How many columns are there?"
   ]
  },
  {
   "cell_type": "code",
   "execution_count": 4,
   "metadata": {},
   "outputs": [
    {
     "data": {
      "text/plain": [
       "6"
      ]
     },
     "execution_count": 4,
     "metadata": {},
     "output_type": "execute_result"
    }
   ],
   "source": [
    "len(data_set.columns)"
   ]
  },
  {
   "cell_type": "code",
   "execution_count": 5,
   "metadata": {},
   "outputs": [
    {
     "data": {
      "text/plain": [
       "Index(['Unnamed: 0', 'Distance', 'roadORtrack', 'Place', 'Time', 'Date'], dtype='object')"
      ]
     },
     "execution_count": 5,
     "metadata": {},
     "output_type": "execute_result"
    }
   ],
   "source": [
    "data_set.columns"
   ]
  },
  {
   "cell_type": "markdown",
   "metadata": {},
   "source": [
    "## How many rows are there?"
   ]
  },
  {
   "cell_type": "code",
   "execution_count": 6,
   "metadata": {},
   "outputs": [
    {
     "data": {
      "text/plain": [
       "40"
      ]
     },
     "execution_count": 6,
     "metadata": {},
     "output_type": "execute_result"
    }
   ],
   "source": [
    "len(data_set.index)"
   ]
  },
  {
   "cell_type": "code",
   "execution_count": 7,
   "metadata": {},
   "outputs": [
    {
     "data": {
      "text/plain": [
       "(40, 6)"
      ]
     },
     "execution_count": 7,
     "metadata": {},
     "output_type": "execute_result"
    }
   ],
   "source": [
    "data_set.shape"
   ]
  },
  {
   "cell_type": "markdown",
   "metadata": {},
   "source": [
    "## Are the columns numerical, categorical, or both?\n",
    "Both"
   ]
  },
  {
   "cell_type": "code",
   "execution_count": 8,
   "metadata": {},
   "outputs": [
    {
     "data": {
      "text/plain": [
       "Index(['Unnamed: 0', 'Distance', 'roadORtrack', 'Place', 'Time', 'Date'], dtype='object')"
      ]
     },
     "execution_count": 8,
     "metadata": {},
     "output_type": "execute_result"
    }
   ],
   "source": [
    "data_set.columns"
   ]
  },
  {
   "cell_type": "markdown",
   "metadata": {},
   "source": [
    "## Are there columns that provide no information? Just constant values for all observations.\n",
    "The very first column (which is unnamed) merely tracks the index of each entry, making it redundant."
   ]
  },
  {
   "cell_type": "markdown",
   "metadata": {},
   "source": [
    "## For each categorical columns compute the mode."
   ]
  },
  {
   "cell_type": "code",
   "execution_count": 9,
   "metadata": {},
   "outputs": [
    {
     "data": {
      "text/plain": [
       "0    track\n",
       "dtype: object"
      ]
     },
     "execution_count": 9,
     "metadata": {},
     "output_type": "execute_result"
    }
   ],
   "source": [
    "data_set['roadORtrack'].mode() "
   ]
  },
  {
   "cell_type": "code",
   "execution_count": 10,
   "metadata": {},
   "outputs": [
    {
     "data": {
      "text/plain": [
       "0    London\n",
       "dtype: object"
      ]
     },
     "execution_count": 10,
     "metadata": {},
     "output_type": "execute_result"
    }
   ],
   "source": [
    "data_set['Place'].mode() "
   ]
  },
  {
   "cell_type": "code",
   "execution_count": 11,
   "metadata": {},
   "outputs": [
    {
     "data": {
      "text/plain": [
       "0    1981-03-22\n",
       "1    1991-03-30\n",
       "2    2005-09-04\n",
       "dtype: object"
      ]
     },
     "execution_count": 11,
     "metadata": {},
     "output_type": "execute_result"
    }
   ],
   "source": [
    "data_set['Date'].mode()"
   ]
  },
  {
   "cell_type": "markdown",
   "metadata": {},
   "source": [
    "## For each numerical column compute the mean (average), max, and min values."
   ]
  },
  {
   "cell_type": "code",
   "execution_count": 12,
   "metadata": {},
   "outputs": [
    {
     "data": {
      "text/plain": [
       "32.112725"
      ]
     },
     "execution_count": 12,
     "metadata": {},
     "output_type": "execute_result"
    }
   ],
   "source": [
    "data_set['Distance'].mean()"
   ]
  },
  {
   "cell_type": "code",
   "execution_count": 13,
   "metadata": {},
   "outputs": [
    {
     "data": {
      "text/plain": [
       "0.1"
      ]
     },
     "execution_count": 13,
     "metadata": {},
     "output_type": "execute_result"
    }
   ],
   "source": [
    "data_set['Distance'].min()"
   ]
  },
  {
   "cell_type": "code",
   "execution_count": 14,
   "metadata": {},
   "outputs": [
    {
     "data": {
      "text/plain": [
       "290.221"
      ]
     },
     "execution_count": 14,
     "metadata": {},
     "output_type": "execute_result"
    }
   ],
   "source": [
    "data_set['Distance'].max()"
   ]
  },
  {
   "cell_type": "code",
   "execution_count": 15,
   "metadata": {},
   "outputs": [
    {
     "data": {
      "text/plain": [
       "125.17965"
      ]
     },
     "execution_count": 15,
     "metadata": {},
     "output_type": "execute_result"
    }
   ],
   "source": [
    "data_set['Time'].mean()"
   ]
  },
  {
   "cell_type": "code",
   "execution_count": 16,
   "metadata": {},
   "outputs": [
    {
     "data": {
      "text/plain": [
       "0.162833333333333"
      ]
     },
     "execution_count": 16,
     "metadata": {},
     "output_type": "execute_result"
    }
   ],
   "source": [
    "data_set['Time'].min() "
   ]
  },
  {
   "cell_type": "code",
   "execution_count": 17,
   "metadata": {},
   "outputs": [
    {
     "data": {
      "text/plain": [
       "125.17965"
      ]
     },
     "execution_count": 17,
     "metadata": {},
     "output_type": "execute_result"
    }
   ],
   "source": [
    "data_set['Time'].mean() "
   ]
  },
  {
   "cell_type": "markdown",
   "metadata": {},
   "source": [
    "## Plot histograms for numerical columns."
   ]
  },
  {
   "cell_type": "code",
   "execution_count": 18,
   "metadata": {},
   "outputs": [
    {
     "data": {
      "text/plain": [
       "array([[<matplotlib.axes._subplots.AxesSubplot object at 0x000001486EB14B38>]],\n",
       "      dtype=object)"
      ]
     },
     "execution_count": 18,
     "metadata": {},
     "output_type": "execute_result"
    }
   ],
   "source": [
    "data_set.hist('Distance')"
   ]
  },
  {
   "cell_type": "code",
   "execution_count": 19,
   "metadata": {},
   "outputs": [
    {
     "data": {
      "text/plain": [
       "array([[<matplotlib.axes._subplots.AxesSubplot object at 0x000001486F6F75C0>]],\n",
       "      dtype=object)"
      ]
     },
     "execution_count": 19,
     "metadata": {},
     "output_type": "execute_result"
    },
    {
     "data": {
      "image/png": "[encoded data removed]",
      "text/plain": [
       "<Figure size 432x288 with 1 Axes>"
      ]
     },
     "metadata": {
      "needs_background": "light"
     },
     "output_type": "display_data"
    }
   ],
   "source": [
    "data_set.hist('Time')"
   ]
  },
  {
   "cell_type": "markdown",
   "metadata": {},
   "source": [
    "## Plot bar plots for categorical columns."
   ]
  },
  {
   "cell_type": "code",
   "execution_count": 20,
   "metadata": {},
   "outputs": [
    {
     "data": {
      "text/plain": [
       "<matplotlib.axes._subplots.AxesSubplot at 0x1486f8c7828>"
      ]
     },
     "execution_count": 20,
     "metadata": {},
     "output_type": "execute_result"
    },
    {
     "data": {
      "image/png": "[encoded data removed]",
      "text/plain": [
       "<Figure size 432x288 with 1 Axes>"
      ]
     },
     "metadata": {
      "needs_background": "light"
     },
     "output_type": "display_data"
    }
   ],
   "source": [
    "data_set['roadORtrack'].value_counts().plot(kind='bar')"
   ]
  },
  {
   "cell_type": "code",
   "execution_count": 21,
   "metadata": {},
   "outputs": [
    {
     "data": {
      "text/plain": [
       "<matplotlib.axes._subplots.AxesSubplot at 0x1486f956240>"
      ]
     },
     "execution_count": 21,
     "metadata": {},
     "output_type": "execute_result"
    },
    {
     "data": {
      "image/png": "[encoded data removed]",
      "text/plain": [
       "<Figure size 432x288 with 1 Axes>"
      ]
     },
     "metadata": {
      "needs_background": "light"
     },
     "output_type": "display_data"
    }
   ],
   "source": [
    "data_set['Place'].value_counts().plot(kind='bar')"
   ]
  },
  {
   "cell_type": "code",
   "execution_count": 22,
   "metadata": {},
   "outputs": [
    {
     "data": {
      "text/plain": [
       "<matplotlib.axes._subplots.AxesSubplot at 0x1486fa4aa20>"
      ]
     },
     "execution_count": 22,
     "metadata": {},
     "output_type": "execute_result"
    },
    {
     "data": {
      "image/png": "[encoded data removed]",
      "text/plain": [
       "<Figure size 432x288 with 1 Axes>"
      ]
     },
     "metadata": {
      "needs_background": "light"
     },
     "output_type": "display_data"
    }
   ],
   "source": [
    "data_set['Date'].value_counts().plot(kind='bar')"
   ]
  }
 ],
 "metadata": {
  "kernelspec": {
   "display_name": "Python 3",
   "language": "python",
   "name": "python3"
  },
  "language_info": {
   "codemirror_mode": {
    "name": "ipython",
    "version": 3
   },
   "file_extension": ".py",
   "mimetype": "text/x-python",
   "name": "python",
   "nbconvert_exporter": "python",
   "pygments_lexer": "ipython3",
   "version": "3.7.1"
  }
 },
 "nbformat": 4,
 "nbformat_minor": 2
}
